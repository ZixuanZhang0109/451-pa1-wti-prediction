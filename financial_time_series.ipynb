{
 "cells": [
  {
   "cell_type": "markdown",
   "id": "3eee3a24-35fe-4714-a257-94c56349ffe3",
   "metadata": {},
   "source": [
    "# Imports & Display Settings"
   ]
  },
  {
   "cell_type": "code",
   "execution_count": 106,
   "id": "137cba5b-83fe-42c5-a78c-dbbb04eb05b8",
   "metadata": {},
   "outputs": [],
   "source": [
    "# Core libraries\n",
    "import numpy as np\n",
    "import polars as pl                                  \n",
    "import matplotlib.pyplot as plt\n",
    "import seaborn as sns\n",
    "import yfinance as yf\n",
    "import pandas as pd\n",
    "from datetime import datetime\n",
    "\n",
    "# Scikit-learn components\n",
    "from xgboost import XGBClassifier, plot_importance\n",
    "from sklearn.linear_model import LogisticRegression\n",
    "from sklearn.preprocessing import StandardScaler\n",
    "from sklearn.model_selection import TimeSeriesSplit, cross_val_score, RandomizedSearchCV\n",
    "from sklearn.metrics import (accuracy_score, roc_auc_score,\n",
    "                             confusion_matrix, ConfusionMatrixDisplay,\n",
    "                             RocCurveDisplay, make_scorer, classification_report)\n",
    "\n",
    "# XGBoost model\n",
    "from xgboost import XGBClassifier, plot_importance\n",
    "\n",
    "# Plot style (optional)\n",
    "sns.set_style(\"whitegrid\")\n",
    "plt.rcParams[\"figure.figsize\"] = (8, 5)"
   ]
  },
  {
   "cell_type": "markdown",
   "id": "660c8465-9ec2-44d2-9579-3460b65392ad",
   "metadata": {},
   "source": [
    "# Retrieve Data"
   ]
  },
  {
   "cell_type": "code",
   "execution_count": 48,
   "id": "653d5218-c388-43c6-83f5-799103dbb479",
   "metadata": {},
   "outputs": [
    {
     "name": "stdout",
     "output_type": "stream",
     "text": [
      "Downloaded data from 2000-01-01 to 2025-07-12\n",
      "Data shape: (6247, 7)\n"
     ]
    },
    {
     "data": {
      "text/html": [
       "<div>\n",
       "<style scoped>\n",
       "    .dataframe tbody tr th:only-of-type {\n",
       "        vertical-align: middle;\n",
       "    }\n",
       "\n",
       "    .dataframe tbody tr th {\n",
       "        vertical-align: top;\n",
       "    }\n",
       "\n",
       "    .dataframe thead th {\n",
       "        text-align: right;\n",
       "    }\n",
       "</style>\n",
       "<table border=\"1\" class=\"dataframe\">\n",
       "  <thead>\n",
       "    <tr style=\"text-align: right;\">\n",
       "      <th></th>\n",
       "      <th>Open</th>\n",
       "      <th>High</th>\n",
       "      <th>Low</th>\n",
       "      <th>Close</th>\n",
       "      <th>Volume</th>\n",
       "      <th>Dividends</th>\n",
       "      <th>Stock Splits</th>\n",
       "    </tr>\n",
       "    <tr>\n",
       "      <th>Date</th>\n",
       "      <th></th>\n",
       "      <th></th>\n",
       "      <th></th>\n",
       "      <th></th>\n",
       "      <th></th>\n",
       "      <th></th>\n",
       "      <th></th>\n",
       "    </tr>\n",
       "  </thead>\n",
       "  <tbody>\n",
       "    <tr>\n",
       "      <th>2000-08-23 00:00:00-04:00</th>\n",
       "      <td>31.950001</td>\n",
       "      <td>32.799999</td>\n",
       "      <td>31.950001</td>\n",
       "      <td>32.049999</td>\n",
       "      <td>79385</td>\n",
       "      <td>0.0</td>\n",
       "      <td>0.0</td>\n",
       "    </tr>\n",
       "    <tr>\n",
       "      <th>2000-08-24 00:00:00-04:00</th>\n",
       "      <td>31.900000</td>\n",
       "      <td>32.240002</td>\n",
       "      <td>31.400000</td>\n",
       "      <td>31.629999</td>\n",
       "      <td>72978</td>\n",
       "      <td>0.0</td>\n",
       "      <td>0.0</td>\n",
       "    </tr>\n",
       "    <tr>\n",
       "      <th>2000-08-25 00:00:00-04:00</th>\n",
       "      <td>31.700001</td>\n",
       "      <td>32.099998</td>\n",
       "      <td>31.320000</td>\n",
       "      <td>32.049999</td>\n",
       "      <td>44601</td>\n",
       "      <td>0.0</td>\n",
       "      <td>0.0</td>\n",
       "    </tr>\n",
       "    <tr>\n",
       "      <th>2000-08-28 00:00:00-04:00</th>\n",
       "      <td>32.040001</td>\n",
       "      <td>32.919998</td>\n",
       "      <td>31.860001</td>\n",
       "      <td>32.869999</td>\n",
       "      <td>46770</td>\n",
       "      <td>0.0</td>\n",
       "      <td>0.0</td>\n",
       "    </tr>\n",
       "    <tr>\n",
       "      <th>2000-08-29 00:00:00-04:00</th>\n",
       "      <td>32.820000</td>\n",
       "      <td>33.029999</td>\n",
       "      <td>32.560001</td>\n",
       "      <td>32.720001</td>\n",
       "      <td>49131</td>\n",
       "      <td>0.0</td>\n",
       "      <td>0.0</td>\n",
       "    </tr>\n",
       "  </tbody>\n",
       "</table>\n",
       "</div>"
      ],
      "text/plain": [
       "                                Open       High        Low      Close  Volume  \\\n",
       "Date                                                                            \n",
       "2000-08-23 00:00:00-04:00  31.950001  32.799999  31.950001  32.049999   79385   \n",
       "2000-08-24 00:00:00-04:00  31.900000  32.240002  31.400000  31.629999   72978   \n",
       "2000-08-25 00:00:00-04:00  31.700001  32.099998  31.320000  32.049999   44601   \n",
       "2000-08-28 00:00:00-04:00  32.040001  32.919998  31.860001  32.869999   46770   \n",
       "2000-08-29 00:00:00-04:00  32.820000  33.029999  32.560001  32.720001   49131   \n",
       "\n",
       "                           Dividends  Stock Splits  \n",
       "Date                                                \n",
       "2000-08-23 00:00:00-04:00        0.0           0.0  \n",
       "2000-08-24 00:00:00-04:00        0.0           0.0  \n",
       "2000-08-25 00:00:00-04:00        0.0           0.0  \n",
       "2000-08-28 00:00:00-04:00        0.0           0.0  \n",
       "2000-08-29 00:00:00-04:00        0.0           0.0  "
      ]
     },
     "metadata": {},
     "output_type": "display_data"
    },
    {
     "name": "stdout",
     "output_type": "stream",
     "text": [
      "Historical data saved to: wti_historical_data.csv\n"
     ]
    }
   ],
   "source": [
    "# Define the symbol for WTI crude oil futures on Yahoo Finance\n",
    "symbol = 'CL=F'  # 'CL=F' stands for Crude Oil WTI Futures\n",
    "\n",
    "# Define the date range: from Jan 1, 2000 to today\n",
    "start_date = '2000-01-01'\n",
    "end_date = datetime.today().strftime('%Y-%m-%d')  # automatically gets today's date\n",
    "\n",
    "# Define the data interval (daily frequency)\n",
    "interval = '1d'  # Options: '1d', '1wk', '1mo'\n",
    "\n",
    "# Retrieve historical data using yfinance\n",
    "ticker = yf.Ticker(symbol)\n",
    "historical_data = ticker.history(start=start_date, end=end_date, interval=interval)\n",
    "\n",
    "# Display the first few rows\n",
    "print(f\"Downloaded data from {start_date} to {end_date}\")\n",
    "print(\"Data shape:\", historical_data.shape)\n",
    "display(historical_data.head())\n",
    "\n",
    "csv_path = \"wti_historical_data.csv\"\n",
    "historical_data.to_csv(csv_path)\n",
    "print(f\"Historical data saved to: {csv_path}\")"
   ]
  },
  {
   "cell_type": "markdown",
   "id": "60b5654c-4c9b-4651-a183-0763f6de12b4",
   "metadata": {},
   "source": [
    "# Feature Engineering"
   ]
  },
  {
   "cell_type": "code",
   "execution_count": 51,
   "id": "e52fe645-6e23-48dd-b78b-288360d1b60e",
   "metadata": {},
   "outputs": [
    {
     "name": "stdout",
     "output_type": "stream",
     "text": [
      "Shape: (6247, 8)\n"
     ]
    },
    {
     "data": {
      "text/html": [
       "<div><style>\n",
       ".dataframe > thead > tr,\n",
       ".dataframe > tbody > tr {\n",
       "  text-align: right;\n",
       "  white-space: pre-wrap;\n",
       "}\n",
       "</style>\n",
       "<small>shape: (5, 8)</small><table border=\"1\" class=\"dataframe\"><thead><tr><th>Date</th><th>Open</th><th>High</th><th>Low</th><th>Close</th><th>Volume</th><th>Dividends</th><th>Stock Splits</th></tr><tr><td>datetime[μs, UTC]</td><td>f64</td><td>f64</td><td>f64</td><td>f64</td><td>i64</td><td>f64</td><td>f64</td></tr></thead><tbody><tr><td>2000-08-23 04:00:00 UTC</td><td>31.950001</td><td>32.799999</td><td>31.950001</td><td>32.049999</td><td>79385</td><td>0.0</td><td>0.0</td></tr><tr><td>2000-08-24 04:00:00 UTC</td><td>31.9</td><td>32.240002</td><td>31.4</td><td>31.629999</td><td>72978</td><td>0.0</td><td>0.0</td></tr><tr><td>2000-08-25 04:00:00 UTC</td><td>31.700001</td><td>32.099998</td><td>31.32</td><td>32.049999</td><td>44601</td><td>0.0</td><td>0.0</td></tr><tr><td>2000-08-28 04:00:00 UTC</td><td>32.040001</td><td>32.919998</td><td>31.860001</td><td>32.869999</td><td>46770</td><td>0.0</td><td>0.0</td></tr><tr><td>2000-08-29 04:00:00 UTC</td><td>32.82</td><td>33.029999</td><td>32.560001</td><td>32.720001</td><td>49131</td><td>0.0</td><td>0.0</td></tr></tbody></table></div>"
      ],
      "text/plain": [
       "shape: (5, 8)\n",
       "┌──────────────┬───────────┬───────────┬───────────┬───────────┬────────┬───────────┬──────────────┐\n",
       "│ Date         ┆ Open      ┆ High      ┆ Low       ┆ Close     ┆ Volume ┆ Dividends ┆ Stock Splits │\n",
       "│ ---          ┆ ---       ┆ ---       ┆ ---       ┆ ---       ┆ ---    ┆ ---       ┆ ---          │\n",
       "│ datetime[μs, ┆ f64       ┆ f64       ┆ f64       ┆ f64       ┆ i64    ┆ f64       ┆ f64          │\n",
       "│ UTC]         ┆           ┆           ┆           ┆           ┆        ┆           ┆              │\n",
       "╞══════════════╪═══════════╪═══════════╪═══════════╪═══════════╪════════╪═══════════╪══════════════╡\n",
       "│ 2000-08-23   ┆ 31.950001 ┆ 32.799999 ┆ 31.950001 ┆ 32.049999 ┆ 79385  ┆ 0.0       ┆ 0.0          │\n",
       "│ 04:00:00 UTC ┆           ┆           ┆           ┆           ┆        ┆           ┆              │\n",
       "│ 2000-08-24   ┆ 31.9      ┆ 32.240002 ┆ 31.4      ┆ 31.629999 ┆ 72978  ┆ 0.0       ┆ 0.0          │\n",
       "│ 04:00:00 UTC ┆           ┆           ┆           ┆           ┆        ┆           ┆              │\n",
       "│ 2000-08-25   ┆ 31.700001 ┆ 32.099998 ┆ 31.32     ┆ 32.049999 ┆ 44601  ┆ 0.0       ┆ 0.0          │\n",
       "│ 04:00:00 UTC ┆           ┆           ┆           ┆           ┆        ┆           ┆              │\n",
       "│ 2000-08-28   ┆ 32.040001 ┆ 32.919998 ┆ 31.860001 ┆ 32.869999 ┆ 46770  ┆ 0.0       ┆ 0.0          │\n",
       "│ 04:00:00 UTC ┆           ┆           ┆           ┆           ┆        ┆           ┆              │\n",
       "│ 2000-08-29   ┆ 32.82     ┆ 33.029999 ┆ 32.560001 ┆ 32.720001 ┆ 49131  ┆ 0.0       ┆ 0.0          │\n",
       "│ 04:00:00 UTC ┆           ┆           ┆           ┆           ┆        ┆           ┆              │\n",
       "└──────────────┴───────────┴───────────┴───────────┴───────────┴────────┴───────────┴──────────────┘"
      ]
     },
     "execution_count": 51,
     "metadata": {},
     "output_type": "execute_result"
    }
   ],
   "source": [
    "\n",
    "# Load the historical data from the CSV\n",
    "wti = pl.read_csv(\"wti_historical_data.csv\", try_parse_dates=True)\n",
    "\n",
    "# Show the first few rows and column names\n",
    "print(f\"Shape: {wti.shape}\")\n",
    "wti.head()"
   ]
  },
  {
   "cell_type": "code",
   "execution_count": 53,
   "id": "a3a72008-37c8-4e7f-af2f-61bbcb5bd3a6",
   "metadata": {},
   "outputs": [],
   "source": [
    "# Rename columns to match the professor’s jump-start code expectations (if needed)\n",
    "# Convert column names to title case if Yahoo changed format\n",
    "wti = wti.rename({\n",
    "    \"Open\": \"Open\",\n",
    "    \"High\": \"High\",\n",
    "    \"Low\": \"Low\",\n",
    "    \"Close\": \"Close\",\n",
    "    \"Volume\": \"Volume\"\n",
    "})\n",
    "\n",
    "# Create lag features for Close and Volume\n",
    "for lag in range(1, 4):\n",
    "    wti = wti.with_columns([\n",
    "        pl.col(\"Close\").shift(lag).alias(f\"CloseLag{lag}\"),\n",
    "        pl.col(\"Volume\").shift(lag).alias(f\"VolumeLag{lag}\"),\n",
    "        (pl.col(\"High\") - pl.col(\"Low\")).shift(lag).alias(f\"HMLLag{lag}\"),\n",
    "        (pl.col(\"Open\") - pl.col(\"Close\")).shift(lag).alias(f\"OMCLag{lag}\")\n",
    "    ])\n",
    "\n",
    "# Exponential moving averages (on lagged close to avoid leakage)\n",
    "wti = wti.with_columns([\n",
    "    pl.col(\"CloseLag1\").ewm_mean(half_life=1).alias(\"CloseEMA2\"),\n",
    "    pl.col(\"CloseLag1\").ewm_mean(half_life=2).alias(\"CloseEMA4\"),\n",
    "    pl.col(\"CloseLag1\").ewm_mean(half_life=4).alias(\"CloseEMA8\")\n",
    "])\n",
    "\n",
    "# Log return and binary target\n",
    "wti = wti.with_columns([\n",
    "    (pl.col(\"Close\") / pl.col(\"CloseLag1\")).log().alias(\"LogReturn\"),\n",
    "    pl.when(pl.col(\"Close\") > pl.col(\"CloseLag1\")).then(1).otherwise(0).alias(\"Target\")\n",
    "])"
   ]
  },
  {
   "cell_type": "markdown",
   "id": "57dfe9ed-90e2-4498-bba8-fa761ed57e4d",
   "metadata": {},
   "source": [
    "# Descriptive Statistics for Key Price Features"
   ]
  },
  {
   "cell_type": "code",
   "execution_count": 60,
   "id": "d790cd9a-b35e-44e6-9a4d-3eac30928257",
   "metadata": {},
   "outputs": [
    {
     "name": "stdout",
     "output_type": "stream",
     "text": [
      "Descriptive Statistics for Selected Price Features:\n"
     ]
    },
    {
     "data": {
      "text/html": [
       "<div>\n",
       "<style scoped>\n",
       "    .dataframe tbody tr th:only-of-type {\n",
       "        vertical-align: middle;\n",
       "    }\n",
       "\n",
       "    .dataframe tbody tr th {\n",
       "        vertical-align: top;\n",
       "    }\n",
       "\n",
       "    .dataframe thead th {\n",
       "        text-align: right;\n",
       "    }\n",
       "</style>\n",
       "<table border=\"1\" class=\"dataframe\">\n",
       "  <thead>\n",
       "    <tr style=\"text-align: right;\">\n",
       "      <th></th>\n",
       "      <th>count</th>\n",
       "      <th>mean</th>\n",
       "      <th>std</th>\n",
       "      <th>min</th>\n",
       "      <th>25%</th>\n",
       "      <th>50%</th>\n",
       "      <th>75%</th>\n",
       "      <th>max</th>\n",
       "    </tr>\n",
       "  </thead>\n",
       "  <tbody>\n",
       "    <tr>\n",
       "      <th>Open</th>\n",
       "      <td>6247.0</td>\n",
       "      <td>64.7308</td>\n",
       "      <td>24.8071</td>\n",
       "      <td>-14.0000</td>\n",
       "      <td>45.9750</td>\n",
       "      <td>64.0300</td>\n",
       "      <td>82.4200</td>\n",
       "      <td>1.451900e+02</td>\n",
       "    </tr>\n",
       "    <tr>\n",
       "      <th>High</th>\n",
       "      <td>6247.0</td>\n",
       "      <td>65.7298</td>\n",
       "      <td>25.0709</td>\n",
       "      <td>13.6900</td>\n",
       "      <td>46.9150</td>\n",
       "      <td>64.9600</td>\n",
       "      <td>83.4050</td>\n",
       "      <td>1.472700e+02</td>\n",
       "    </tr>\n",
       "    <tr>\n",
       "      <th>Low</th>\n",
       "      <td>6247.0</td>\n",
       "      <td>63.6595</td>\n",
       "      <td>24.5134</td>\n",
       "      <td>-40.3200</td>\n",
       "      <td>45.1050</td>\n",
       "      <td>63.1000</td>\n",
       "      <td>81.1850</td>\n",
       "      <td>1.432200e+02</td>\n",
       "    </tr>\n",
       "    <tr>\n",
       "      <th>Close</th>\n",
       "      <td>6247.0</td>\n",
       "      <td>64.7209</td>\n",
       "      <td>24.8137</td>\n",
       "      <td>-37.6300</td>\n",
       "      <td>45.9900</td>\n",
       "      <td>63.9700</td>\n",
       "      <td>82.4400</td>\n",
       "      <td>1.452900e+02</td>\n",
       "    </tr>\n",
       "    <tr>\n",
       "      <th>CloseLag1</th>\n",
       "      <td>6246.0</td>\n",
       "      <td>64.7203</td>\n",
       "      <td>24.8156</td>\n",
       "      <td>-37.6300</td>\n",
       "      <td>45.9750</td>\n",
       "      <td>63.9700</td>\n",
       "      <td>82.4400</td>\n",
       "      <td>1.452900e+02</td>\n",
       "    </tr>\n",
       "    <tr>\n",
       "      <th>CloseLag2</th>\n",
       "      <td>6245.0</td>\n",
       "      <td>64.7200</td>\n",
       "      <td>24.8176</td>\n",
       "      <td>-37.6300</td>\n",
       "      <td>45.9600</td>\n",
       "      <td>63.9700</td>\n",
       "      <td>82.4400</td>\n",
       "      <td>1.452900e+02</td>\n",
       "    </tr>\n",
       "    <tr>\n",
       "      <th>CloseLag3</th>\n",
       "      <td>6244.0</td>\n",
       "      <td>64.7194</td>\n",
       "      <td>24.8195</td>\n",
       "      <td>-37.6300</td>\n",
       "      <td>45.9575</td>\n",
       "      <td>63.9600</td>\n",
       "      <td>82.4450</td>\n",
       "      <td>1.452900e+02</td>\n",
       "    </tr>\n",
       "    <tr>\n",
       "      <th>HMLLag1</th>\n",
       "      <td>6246.0</td>\n",
       "      <td>2.0703</td>\n",
       "      <td>1.5958</td>\n",
       "      <td>0.0200</td>\n",
       "      <td>1.2000</td>\n",
       "      <td>1.7300</td>\n",
       "      <td>2.5100</td>\n",
       "      <td>5.817000e+01</td>\n",
       "    </tr>\n",
       "    <tr>\n",
       "      <th>HMLLag2</th>\n",
       "      <td>6245.0</td>\n",
       "      <td>2.0703</td>\n",
       "      <td>1.5959</td>\n",
       "      <td>0.0200</td>\n",
       "      <td>1.2000</td>\n",
       "      <td>1.7300</td>\n",
       "      <td>2.5100</td>\n",
       "      <td>5.817000e+01</td>\n",
       "    </tr>\n",
       "    <tr>\n",
       "      <th>HMLLag3</th>\n",
       "      <td>6244.0</td>\n",
       "      <td>2.0704</td>\n",
       "      <td>1.5960</td>\n",
       "      <td>0.0200</td>\n",
       "      <td>1.2000</td>\n",
       "      <td>1.7300</td>\n",
       "      <td>2.5100</td>\n",
       "      <td>5.817000e+01</td>\n",
       "    </tr>\n",
       "    <tr>\n",
       "      <th>OMCLag1</th>\n",
       "      <td>6246.0</td>\n",
       "      <td>0.0102</td>\n",
       "      <td>1.6409</td>\n",
       "      <td>-24.0100</td>\n",
       "      <td>-0.7600</td>\n",
       "      <td>-0.0500</td>\n",
       "      <td>0.7000</td>\n",
       "      <td>5.536000e+01</td>\n",
       "    </tr>\n",
       "    <tr>\n",
       "      <th>OMCLag2</th>\n",
       "      <td>6245.0</td>\n",
       "      <td>0.0099</td>\n",
       "      <td>1.6409</td>\n",
       "      <td>-24.0100</td>\n",
       "      <td>-0.7600</td>\n",
       "      <td>-0.0500</td>\n",
       "      <td>0.7000</td>\n",
       "      <td>5.536000e+01</td>\n",
       "    </tr>\n",
       "    <tr>\n",
       "      <th>OMCLag3</th>\n",
       "      <td>6244.0</td>\n",
       "      <td>0.0099</td>\n",
       "      <td>1.6410</td>\n",
       "      <td>-24.0100</td>\n",
       "      <td>-0.7600</td>\n",
       "      <td>-0.0500</td>\n",
       "      <td>0.7000</td>\n",
       "      <td>5.536000e+01</td>\n",
       "    </tr>\n",
       "    <tr>\n",
       "      <th>Volume</th>\n",
       "      <td>6247.0</td>\n",
       "      <td>303716.5806</td>\n",
       "      <td>208899.9631</td>\n",
       "      <td>0.0000</td>\n",
       "      <td>121217.0000</td>\n",
       "      <td>276116.0000</td>\n",
       "      <td>394601.0000</td>\n",
       "      <td>2.288230e+06</td>\n",
       "    </tr>\n",
       "    <tr>\n",
       "      <th>VolumeLag1</th>\n",
       "      <td>6246.0</td>\n",
       "      <td>303723.7952</td>\n",
       "      <td>208915.9095</td>\n",
       "      <td>0.0000</td>\n",
       "      <td>121215.5000</td>\n",
       "      <td>276166.0000</td>\n",
       "      <td>394711.5000</td>\n",
       "      <td>2.288230e+06</td>\n",
       "    </tr>\n",
       "    <tr>\n",
       "      <th>VolumeLag2</th>\n",
       "      <td>6245.0</td>\n",
       "      <td>303731.0122</td>\n",
       "      <td>208931.8595</td>\n",
       "      <td>0.0000</td>\n",
       "      <td>121214.0000</td>\n",
       "      <td>276216.0000</td>\n",
       "      <td>394822.0000</td>\n",
       "      <td>2.288230e+06</td>\n",
       "    </tr>\n",
       "    <tr>\n",
       "      <th>VolumeLag3</th>\n",
       "      <td>6244.0</td>\n",
       "      <td>303743.7902</td>\n",
       "      <td>208946.1517</td>\n",
       "      <td>0.0000</td>\n",
       "      <td>121209.7500</td>\n",
       "      <td>276238.5000</td>\n",
       "      <td>394844.2500</td>\n",
       "      <td>2.288230e+06</td>\n",
       "    </tr>\n",
       "    <tr>\n",
       "      <th>CloseEMA2</th>\n",
       "      <td>6246.0</td>\n",
       "      <td>64.7147</td>\n",
       "      <td>24.7824</td>\n",
       "      <td>-9.1708</td>\n",
       "      <td>45.9844</td>\n",
       "      <td>63.9676</td>\n",
       "      <td>82.2900</td>\n",
       "      <td>1.437731e+02</td>\n",
       "    </tr>\n",
       "    <tr>\n",
       "      <th>CloseEMA4</th>\n",
       "      <td>6246.0</td>\n",
       "      <td>64.7067</td>\n",
       "      <td>24.7532</td>\n",
       "      <td>3.3729</td>\n",
       "      <td>45.8630</td>\n",
       "      <td>64.1009</td>\n",
       "      <td>82.2789</td>\n",
       "      <td>1.424123e+02</td>\n",
       "    </tr>\n",
       "    <tr>\n",
       "      <th>CloseEMA8</th>\n",
       "      <td>6246.0</td>\n",
       "      <td>64.6909</td>\n",
       "      <td>24.6993</td>\n",
       "      <td>11.9455</td>\n",
       "      <td>46.0728</td>\n",
       "      <td>63.9374</td>\n",
       "      <td>82.1323</td>\n",
       "      <td>1.409032e+02</td>\n",
       "    </tr>\n",
       "    <tr>\n",
       "      <th>LogReturn</th>\n",
       "      <td>6244.0</td>\n",
       "      <td>0.0002</td>\n",
       "      <td>0.0260</td>\n",
       "      <td>-0.2822</td>\n",
       "      <td>-0.0127</td>\n",
       "      <td>0.0011</td>\n",
       "      <td>0.0135</td>\n",
       "      <td>3.196000e-01</td>\n",
       "    </tr>\n",
       "  </tbody>\n",
       "</table>\n",
       "</div>"
      ],
      "text/plain": [
       "             count         mean          std      min          25%  \\\n",
       "Open        6247.0      64.7308      24.8071 -14.0000      45.9750   \n",
       "High        6247.0      65.7298      25.0709  13.6900      46.9150   \n",
       "Low         6247.0      63.6595      24.5134 -40.3200      45.1050   \n",
       "Close       6247.0      64.7209      24.8137 -37.6300      45.9900   \n",
       "CloseLag1   6246.0      64.7203      24.8156 -37.6300      45.9750   \n",
       "CloseLag2   6245.0      64.7200      24.8176 -37.6300      45.9600   \n",
       "CloseLag3   6244.0      64.7194      24.8195 -37.6300      45.9575   \n",
       "HMLLag1     6246.0       2.0703       1.5958   0.0200       1.2000   \n",
       "HMLLag2     6245.0       2.0703       1.5959   0.0200       1.2000   \n",
       "HMLLag3     6244.0       2.0704       1.5960   0.0200       1.2000   \n",
       "OMCLag1     6246.0       0.0102       1.6409 -24.0100      -0.7600   \n",
       "OMCLag2     6245.0       0.0099       1.6409 -24.0100      -0.7600   \n",
       "OMCLag3     6244.0       0.0099       1.6410 -24.0100      -0.7600   \n",
       "Volume      6247.0  303716.5806  208899.9631   0.0000  121217.0000   \n",
       "VolumeLag1  6246.0  303723.7952  208915.9095   0.0000  121215.5000   \n",
       "VolumeLag2  6245.0  303731.0122  208931.8595   0.0000  121214.0000   \n",
       "VolumeLag3  6244.0  303743.7902  208946.1517   0.0000  121209.7500   \n",
       "CloseEMA2   6246.0      64.7147      24.7824  -9.1708      45.9844   \n",
       "CloseEMA4   6246.0      64.7067      24.7532   3.3729      45.8630   \n",
       "CloseEMA8   6246.0      64.6909      24.6993  11.9455      46.0728   \n",
       "LogReturn   6244.0       0.0002       0.0260  -0.2822      -0.0127   \n",
       "\n",
       "                    50%          75%           max  \n",
       "Open            64.0300      82.4200  1.451900e+02  \n",
       "High            64.9600      83.4050  1.472700e+02  \n",
       "Low             63.1000      81.1850  1.432200e+02  \n",
       "Close           63.9700      82.4400  1.452900e+02  \n",
       "CloseLag1       63.9700      82.4400  1.452900e+02  \n",
       "CloseLag2       63.9700      82.4400  1.452900e+02  \n",
       "CloseLag3       63.9600      82.4450  1.452900e+02  \n",
       "HMLLag1          1.7300       2.5100  5.817000e+01  \n",
       "HMLLag2          1.7300       2.5100  5.817000e+01  \n",
       "HMLLag3          1.7300       2.5100  5.817000e+01  \n",
       "OMCLag1         -0.0500       0.7000  5.536000e+01  \n",
       "OMCLag2         -0.0500       0.7000  5.536000e+01  \n",
       "OMCLag3         -0.0500       0.7000  5.536000e+01  \n",
       "Volume      276116.0000  394601.0000  2.288230e+06  \n",
       "VolumeLag1  276166.0000  394711.5000  2.288230e+06  \n",
       "VolumeLag2  276216.0000  394822.0000  2.288230e+06  \n",
       "VolumeLag3  276238.5000  394844.2500  2.288230e+06  \n",
       "CloseEMA2       63.9676      82.2900  1.437731e+02  \n",
       "CloseEMA4       64.1009      82.2789  1.424123e+02  \n",
       "CloseEMA8       63.9374      82.1323  1.409032e+02  \n",
       "LogReturn        0.0011       0.0135  3.196000e-01  "
      ]
     },
     "metadata": {},
     "output_type": "display_data"
    }
   ],
   "source": [
    "# Select only columns that actually exist in your wti DataFrame\n",
    "price_cols = [\n",
    "    \"Open\", \"High\", \"Low\", \"Close\",\n",
    "    \"CloseLag1\", \"CloseLag2\", \"CloseLag3\",\n",
    "    \"HMLLag1\", \"HMLLag2\", \"HMLLag3\",\n",
    "    \"OMCLag1\", \"OMCLag2\", \"OMCLag3\",\n",
    "    \"Volume\", \"VolumeLag1\", \"VolumeLag2\", \"VolumeLag3\",\n",
    "    \"CloseEMA2\", \"CloseEMA4\", \"CloseEMA8\",\n",
    "    \"LogReturn\"\n",
    "]\n",
    "\n",
    "# Convert to pandas and show descriptive statistics\n",
    "wti_stats = wti.select(price_cols).to_pandas().describe().T.round(4)\n",
    "print(\"Descriptive Statistics for Selected Price Features:\")\n",
    "display(wti_stats)"
   ]
  },
  {
   "cell_type": "markdown",
   "id": "fdc70f9a-e249-42ed-be6d-5f963ee5bbfa",
   "metadata": {},
   "source": [
    "# Distribution of Log Returns"
   ]
  },
  {
   "cell_type": "code",
   "execution_count": 64,
   "id": "59260de6-0914-4843-bbb3-46190d9cd1de",
   "metadata": {},
   "outputs": [
    {
     "data": {
      "image/png": "[encoded data removed]",
      "text/plain": [
       "<Figure size 800x500 with 1 Axes>"
      ]
     },
     "metadata": {},
     "output_type": "display_data"
    }
   ],
   "source": [
    "# Plot histogram of log returns\n",
    "sns.histplot(wti.select(\"LogReturn\").to_pandas(), bins=50, kde=True)\n",
    "plt.title(\"Distribution of Log Returns\")\n",
    "plt.xlabel(\"Log Return\")\n",
    "plt.show()"
   ]
  },
  {
   "cell_type": "markdown",
   "id": "fdcdd109-448a-4a4e-b8d3-bd44b8e6cd25",
   "metadata": {},
   "source": [
    "# Drop Missing Values (caused by lagging and EMAs)"
   ]
  },
  {
   "cell_type": "code",
   "execution_count": 24,
   "id": "737cc37c-7689-4001-87cf-8e910a6dbec4",
   "metadata": {},
   "outputs": [
    {
     "name": "stdout",
     "output_type": "stream",
     "text": [
      "Schema({'Date': Datetime(time_unit='us', time_zone='UTC'), 'Open': Float64, 'High': Float64, 'Low': Float64, 'Close': Float64, 'Volume': Int64, 'Dividends': Float64, 'Stock Splits': Float64, 'CloseLag1': Float64, 'VolumeLag1': Int64, 'HMLLag1': Float64, 'OMCLag1': Float64, 'CloseLag2': Float64, 'VolumeLag2': Int64, 'HMLLag2': Float64, 'OMCLag2': Float64, 'CloseLag3': Float64, 'VolumeLag3': Int64, 'HMLLag3': Float64, 'OMCLag3': Float64, 'CloseEMA2': Float64, 'CloseEMA4': Float64, 'CloseEMA8': Float64, 'LogReturn': Float64, 'Target': Int32})\n"
     ]
    }
   ],
   "source": [
    "# Drop rows with any null values caused by shifting or ewm\n",
    "wti = wti.drop_nulls()\n",
    "\n",
    "# Print schema to confirm structure\n",
    "print(wti.schema)"
   ]
  },
  {
   "cell_type": "markdown",
   "id": "87bd0fc1-cd1e-40a3-af6d-bc727b26652f",
   "metadata": {},
   "source": [
    "#  Prepare Feature Matrix X and Target y"
   ]
  },
  {
   "cell_type": "code",
   "execution_count": 27,
   "id": "79e323a4-90eb-4426-8aa9-f1cd633ab295",
   "metadata": {},
   "outputs": [
    {
     "name": "stdout",
     "output_type": "stream",
     "text": [
      "Feature matrix shape: (6244, 17)\n"
     ]
    }
   ],
   "source": [
    "# Drop current-day raw values to avoid information leakage\n",
    "columns_to_drop = [\n",
    "    \"Date\", \"Open\", \"High\", \"Low\", \"Close\", \"Volume\", \"LogReturn\", \"Target\"\n",
    "]\n",
    "\n",
    "X = wti.drop(columns_to_drop, strict=False)\n",
    "y = wti[\"Target\"].to_numpy()\n",
    "X_np = X.to_numpy()\n",
    "\n",
    "print(\"Feature matrix shape:\", X_np.shape)"
   ]
  },
  {
   "cell_type": "markdown",
   "id": "5a81d1f4-8909-4307-9f9f-809af0ae8431",
   "metadata": {},
   "source": [
    "# Standardize All Features"
   ]
  },
  {
   "cell_type": "code",
   "execution_count": 71,
   "id": "ceda2c40-b7ca-4597-886a-8da0aa5cc003",
   "metadata": {},
   "outputs": [
    {
     "name": "stdout",
     "output_type": "stream",
     "text": [
      "Feature matrix standardized.\n",
      "Shape: (6244, 17)\n"
     ]
    }
   ],
   "source": [
    "\n",
    "# Initialize the scaler\n",
    "scaler = StandardScaler()\n",
    "\n",
    "# Fit and transform X\n",
    "X_scaled = scaler.fit_transform(X_np)\n",
    "\n",
    "print(\"Feature matrix standardized.\")\n",
    "print(\"Shape:\", X_scaled.shape)"
   ]
  },
  {
   "cell_type": "markdown",
   "id": "b4785571-20c1-494b-abc8-ec280896ed0b",
   "metadata": {},
   "source": [
    "# Feature Selection"
   ]
  },
  {
   "cell_type": "code",
   "execution_count": 85,
   "id": "0128bb80-b9c2-40c8-b09a-16270aba5b35",
   "metadata": {},
   "outputs": [
    {
     "name": "stdout",
     "output_type": "stream",
     "text": [
      "Top 10 important features (XGBoost):\n",
      "1. CloseEMA4 (0.0816)\n",
      "2. CloseEMA8 (0.0747)\n",
      "3. CloseLag2 (0.0725)\n",
      "4. CloseLag3 (0.0696)\n",
      "5. OMCLag2 (0.0670)\n",
      "6. HMLLag3 (0.0663)\n",
      "7. HMLLag2 (0.0660)\n",
      "8. CloseEMA2 (0.0659)\n",
      "9. OMCLag1 (0.0651)\n",
      "10. VolumeLag3 (0.0648)\n"
     ]
    },
    {
     "data": {
      "image/png": "[encoded data removed]",
      "text/plain": [
       "<Figure size 800x500 with 1 Axes>"
      ]
     },
     "metadata": {},
     "output_type": "display_data"
    }
   ],
   "source": [
    "from xgboost import XGBClassifier, plot_importance\n",
    "\n",
    "xgb = XGBClassifier(eval_metric='logloss')\n",
    "xgb.fit(X_scaled, y)\n",
    "\n",
    "\n",
    "importances = xgb.feature_importances_\n",
    "sorted_indices = importances.argsort()[::-1]\n",
    "sorted_features = [X.columns[i] for i in sorted_indices]\n",
    "\n",
    "print(\"Top 10 important features (XGBoost):\")\n",
    "for i in range(10):\n",
    "    print(f\"{i+1}. {sorted_features[i]} ({importances[sorted_indices[i]]:.4f})\")\n",
    "\n",
    "\n",
    "plot_importance(xgb, max_num_features=10)\n",
    "plt.title(\"Top 10 Feature Importances (XGBoost)\")\n",
    "plt.show()"
   ]
  },
  {
   "cell_type": "markdown",
   "id": "a89fd541-abc5-49e9-957b-541017b4ea17",
   "metadata": {},
   "source": [
    "# Time Series Cross-Validation + Model Training"
   ]
  },
  {
   "cell_type": "code",
   "execution_count": 97,
   "id": "2cdc8f07-fc3b-4aed-8749-ae1df92ec656",
   "metadata": {},
   "outputs": [
    {
     "name": "stdout",
     "output_type": "stream",
     "text": [
      "Fitting 5 folds for each of 30 candidates, totalling 150 fits\n",
      "\n",
      " Best Hyperparameters Found:\n",
      "           subsample: 0.6\n",
      "        n_estimators: 400\n",
      "    min_child_weight: 1\n",
      "           max_depth: 3\n",
      "       learning_rate: 0.1\n",
      "               gamma: 0.0\n",
      "    colsample_bytree: 1.0\n",
      "\n",
      "Best CV ROC-AUC: 0.5175\n"
     ]
    },
    {
     "data": {
      "image/png": "[encoded data removed]",
      "text/plain": [
       "<Figure size 800x500 with 1 Axes>"
      ]
     },
     "metadata": {},
     "output_type": "display_data"
    }
   ],
   "source": [
    "# 1. Define cross-validation method\n",
    "tscv = TimeSeriesSplit(n_splits=5)\n",
    "\n",
    "# 2. Define the base XGBoost classifier (no deprecated params)\n",
    "xgb_base = XGBClassifier(\n",
    "    objective='binary:logistic',\n",
    "    eval_metric='logloss',\n",
    "    random_state=42,\n",
    "    n_jobs=-1\n",
    ")\n",
    "\n",
    "# 3. Define hyperparameter grid\n",
    "param_dist = {\n",
    "    \"n_estimators\":     [200, 400, 600],\n",
    "    \"learning_rate\":    [0.01, 0.05, 0.1],\n",
    "    \"max_depth\":        [3, 4, 5, 6],\n",
    "    \"subsample\":        [0.6, 0.8, 1.0],\n",
    "    \"colsample_bytree\": [0.6, 0.8, 1.0],\n",
    "    \"min_child_weight\": [1, 3, 5],\n",
    "    \"gamma\":            [0.0, 0.1, 0.2],\n",
    "}\n",
    "\n",
    "# 4. Define scoring function (no deprecation warning)\n",
    "roc_auc = make_scorer(roc_auc_score, response_method='predict_proba')\n",
    "\n",
    "# 5. Set up randomized search\n",
    "xgb_search = RandomizedSearchCV(\n",
    "    estimator=xgb_base,\n",
    "    param_distributions=param_dist,\n",
    "    n_iter=30,                   # increase for broader search\n",
    "    scoring=roc_auc,\n",
    "    cv=tscv,\n",
    "    verbose=1,\n",
    "    n_jobs=-1,\n",
    "    random_state=42\n",
    ")\n",
    "\n",
    "# 6. Fit to standardized data (use X_scaled or your selected X)\n",
    "xgb_search.fit(X_scaled, y)\n",
    "\n",
    "# 7. Output best params and performance\n",
    "print(\"\\n Best Hyperparameters Found:\")\n",
    "for k, v in xgb_search.best_params_.items():\n",
    "    print(f\"  {k:>18}: {v}\")\n",
    "print(f\"\\nBest CV ROC-AUC: {xgb_search.best_score_:.4f}\")\n",
    "\n",
    "# 8. Plot top features of final model\n",
    "best_model = xgb_search.best_estimator_\n",
    "\n",
    "plot_importance(best_model, max_num_features=10)\n",
    "plt.title(\"Top 10 Feature Importances (Best XGBoost Model)\")\n",
    "plt.tight_layout()\n",
    "plt.show()"
   ]
  },
  {
   "cell_type": "markdown",
   "id": "ea88ea25-50a1-470d-a62a-1d9ffb95014a",
   "metadata": {},
   "source": [
    "# Evaluate best_model"
   ]
  },
  {
   "cell_type": "code",
   "execution_count": 100,
   "id": "d0ccbad1-c71b-45fe-9fb1-9add1a04b999",
   "metadata": {},
   "outputs": [
    {
     "name": "stdout",
     "output_type": "stream",
     "text": [
      "Accuracy: 0.7771\n",
      "ROC-AUC: 0.8608\n"
     ]
    },
    {
     "data": {
      "image/png": "[encoded data removed]",
      "text/plain": [
       "<Figure size 800x500 with 2 Axes>"
      ]
     },
     "metadata": {},
     "output_type": "display_data"
    },
    {
     "data": {
      "image/png": "[encoded data removed]",
      "text/plain": [
       "<Figure size 800x500 with 1 Axes>"
      ]
     },
     "metadata": {},
     "output_type": "display_data"
    }
   ],
   "source": [
    "from sklearn.metrics import (\n",
    "    accuracy_score, confusion_matrix, roc_auc_score,\n",
    "    ConfusionMatrixDisplay, RocCurveDisplay\n",
    ")\n",
    "import matplotlib.pyplot as plt\n",
    "\n",
    "# Step 1: Generate model predictions (probabilities and labels)\n",
    "y_pred_proba = best_model.predict_proba(X_scaled)[:, 1]  # Probability of class 1\n",
    "y_pred_label = best_model.predict(X_scaled)              # Hard class prediction\n",
    "\n",
    "# Step 2: Accuracy Score\n",
    "acc = accuracy_score(y, y_pred_label)\n",
    "print(f\"Accuracy: {acc:.4f}\")\n",
    "\n",
    "# Step 3: ROC-AUC Score\n",
    "auc = roc_auc_score(y, y_pred_proba)\n",
    "print(f\"ROC-AUC: {auc:.4f}\")\n",
    "\n",
    "# Step 4: Confusion Matrix\n",
    "cm = confusion_matrix(y, y_pred_label, labels=[0, 1])\n",
    "disp = ConfusionMatrixDisplay(confusion_matrix=cm, display_labels=[\"Down\", \"Up\"])\n",
    "disp.plot(cmap=\"Blues\")\n",
    "plt.title(\"Confusion Matrix\")\n",
    "plt.show()\n",
    "\n",
    "# Step 5: ROC Curve\n",
    "RocCurveDisplay.from_predictions(y, y_pred_proba)\n",
    "plt.title(\"ROC Curve\")\n",
    "plt.grid(True)\n",
    "plt.show()"
   ]
  },
  {
   "cell_type": "markdown",
   "id": "757635d4-1233-49a8-bf5d-b605b6e71841",
   "metadata": {},
   "source": [
    "# Reference\n",
    "* [yfinance GitHub](https://github.com/ranaroussi/yfinance)\n",
    "* [yfinance Documentation](https://ranaroussi.github.io/yfinance/)\n",
    "* [Polars Online User Guide](https://docs.pola.rs/)\n",
    "* [Build Polars Database](https://www.pyquantnews.com/free-python-resources/build-stock-database-locally-with-polars)\n",
    "* [YouTube. Polars and Time Series: What It Can Do, and How to Overcome Any Limitation](https://www.youtube.com/watch?v=qz-zAHBz6Ks)\n",
    "* [Awesome Quant: Python for Quantiative Finance](https://wilsonfreitas.github.io/awesome-quant/)\n",
    "* [Cross-validation](https://scikit-learn.org/stable/modules/cross_validation.html)\n",
    "* [TimeSeriesSplit](https://scikit-learn.org/stable/modules/generated/sklearn.model_selection.TimeSeriesSplit.html)\n",
    "* [RandomizedSearchCV](https://scikit-learn.org/stable/modules/generated/sklearn.model_selection.RandomizedSearchCV.html)\n",
    "* [Hyperparameter Tuning](https://scikit-learn.org/stable/modules/grid_search.html#grid-search)\n",
    "* [Metrics and Scoring](https://scikit-learn.org/stable/modules/model_evaluation.html#scoring-parameter)\n",
    "* [Introduction to Boosted Trees](https://xgboost.readthedocs.io/en/latest/tutorials/model.html)\n",
    "* [XGBoost documentation](https://xgboost.readthedocs.io/en/latest/index.html)\n",
    "* [XGBoost in Python documentation](https://xgboost-clone.readthedocs.io/en/latest/python/python_intro.html)\n",
    "* [Auto-Sklearn for AutoML in an Scikit-Learn Environment](https://www.automl.org/automl-for-x/tabular-data/auto-sklearn/)."
   ]
  },
  {
   "cell_type": "code",
   "execution_count": null,
   "id": "5b685c98-9c84-4235-985f-39a483c1f91a",
   "metadata": {},
   "outputs": [],
   "source": []
  }
 ],
 "metadata": {
  "kernelspec": {
   "display_name": "Python 3 (ipykernel)",
   "language": "python",
   "name": "python3"
  },
  "language_info": {
   "codemirror_mode": {
    "name": "ipython",
    "version": 3
   },
   "file_extension": ".py",
   "mimetype": "text/x-python",
   "name": "python",
   "nbconvert_exporter": "python",
   "pygments_lexer": "ipython3",
   "version": "3.12.4"
  }
 },
 "nbformat": 4,
 "nbformat_minor": 5
}
